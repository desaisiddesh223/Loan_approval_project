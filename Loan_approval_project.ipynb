{
 "cells": [
  {
   "cell_type": "code",
   "execution_count": 4,
   "id": "a8b5e504-40bf-4573-ba8d-78a49ea8b8a6",
   "metadata": {},
   "outputs": [],
   "source": [
    "import pandas as pd \n",
    "from warnings import filterwarnings\n",
    "filterwarnings('ignore')"
   ]
  },
  {
   "cell_type": "code",
   "execution_count": 5,
   "id": "f69ae5b7-4a42-4987-8fc3-9acc8af3a0fe",
   "metadata": {},
   "outputs": [],
   "source": [
    "A=pd.read_csv(\"C:/Users/desai/OneDrive/Desktop/git_hub_projects/loan_project_final/training_set.csv\")"
   ]
  },
  {
   "cell_type": "code",
   "execution_count": 6,
   "id": "8bd5699e-8569-439f-b24b-a65dfc22c9e4",
   "metadata": {},
   "outputs": [
    {
     "name": "stdout",
     "output_type": "stream",
     "text": [
      "<class 'pandas.core.frame.DataFrame'>\n",
      "RangeIndex: 614 entries, 0 to 613\n",
      "Data columns (total 13 columns):\n",
      " #   Column             Non-Null Count  Dtype  \n",
      "---  ------             --------------  -----  \n",
      " 0   Loan_ID            614 non-null    object \n",
      " 1   Gender             599 non-null    object \n",
      " 2   Married            611 non-null    object \n",
      " 3   Dependents         599 non-null    object \n",
      " 4   Education          613 non-null    object \n",
      " 5   Self_Employed      582 non-null    object \n",
      " 6   ApplicantIncome    612 non-null    float64\n",
      " 7   CoapplicantIncome  613 non-null    float64\n",
      " 8   LoanAmount         592 non-null    float64\n",
      " 9   Loan_Amount_Term   600 non-null    float64\n",
      " 10  Credit_History     564 non-null    float64\n",
      " 11  Property_Area      614 non-null    object \n",
      " 12  Loan_Status        614 non-null    object \n",
      "dtypes: float64(5), object(8)\n",
      "memory usage: 62.5+ KB\n"
     ]
    }
   ],
   "source": [
    "A.info()"
   ]
  },
  {
   "cell_type": "code",
   "execution_count": 10,
   "id": "47d87eca-de8a-4ddd-a82d-a3d0335a1b4b",
   "metadata": {},
   "outputs": [],
   "source": [
    "#Checking Missing Data"
   ]
  },
  {
   "cell_type": "code",
   "execution_count": 11,
   "id": "6a25cb23-e4a1-4c3f-a679-4f6681a649a8",
   "metadata": {},
   "outputs": [
    {
     "data": {
      "text/plain": [
       "Loan_ID               0\n",
       "Gender               15\n",
       "Married               3\n",
       "Dependents           15\n",
       "Education             1\n",
       "Self_Employed        32\n",
       "ApplicantIncome       2\n",
       "CoapplicantIncome     1\n",
       "LoanAmount           22\n",
       "Loan_Amount_Term     14\n",
       "Credit_History       50\n",
       "Property_Area         0\n",
       "Loan_Status           0\n",
       "dtype: int64"
      ]
     },
     "execution_count": 11,
     "metadata": {},
     "output_type": "execute_result"
    }
   ],
   "source": [
    "A.isna().sum()"
   ]
  },
  {
   "cell_type": "code",
   "execution_count": 7,
   "id": "55efcc7e-f0c6-46cc-a9c6-9e307949042b",
   "metadata": {},
   "outputs": [],
   "source": [
    "#missing Data Treatment"
   ]
  },
  {
   "cell_type": "code",
   "execution_count": 12,
   "id": "cc751161-8b0a-4714-b348-6b5930d995af",
   "metadata": {},
   "outputs": [],
   "source": [
    "for i in A.columns:\n",
    "    if A[i].dtypes=='object':\n",
    "        x=A[i].mode()[0]\n",
    "        A[i]=A[i].fillna(x)\n",
    "    else:\n",
    "        x=A[i].mean()\n",
    "        A[i]=A[i].fillna(x)"
   ]
  },
  {
   "cell_type": "code",
   "execution_count": 13,
   "id": "d94ce989-8188-464b-ae91-9c9ac6dd8f05",
   "metadata": {},
   "outputs": [
    {
     "data": {
      "text/plain": [
       "Loan_ID              0\n",
       "Gender               0\n",
       "Married              0\n",
       "Dependents           0\n",
       "Education            0\n",
       "Self_Employed        0\n",
       "ApplicantIncome      0\n",
       "CoapplicantIncome    0\n",
       "LoanAmount           0\n",
       "Loan_Amount_Term     0\n",
       "Credit_History       0\n",
       "Property_Area        0\n",
       "Loan_Status          0\n",
       "dtype: int64"
      ]
     },
     "execution_count": 13,
     "metadata": {},
     "output_type": "execute_result"
    }
   ],
   "source": [
    "\n",
    " A.isna().sum()"
   ]
  },
  {
   "cell_type": "code",
   "execution_count": null,
   "id": "8e41e799-fa47-4334-b888-01cea5c657e9",
   "metadata": {},
   "outputs": [],
   "source": [
    " "
   ]
  }
 ],
 "metadata": {
  "kernelspec": {
   "display_name": "Python 3 (ipykernel)",
   "language": "python",
   "name": "python3"
  },
  "language_info": {
   "codemirror_mode": {
    "name": "ipython",
    "version": 3
   },
   "file_extension": ".py",
   "mimetype": "text/x-python",
   "name": "python",
   "nbconvert_exporter": "python",
   "pygments_lexer": "ipython3",
   "version": "3.10.14"
  }
 },
 "nbformat": 4,
 "nbformat_minor": 5
}
