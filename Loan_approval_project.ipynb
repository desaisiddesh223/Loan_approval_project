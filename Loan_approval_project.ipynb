{
 "cells": [
  {
   "cell_type": "code",
   "execution_count": 231,
   "id": "a8b5e504-40bf-4573-ba8d-78a49ea8b8a6",
   "metadata": {},
   "outputs": [],
   "source": [
    "# Importing libraries\n",
    "import pandas as pd\n",
    "from warnings import filterwarnings\n",
    "# Ignoreing warnings for cleaner output display\n",
    "filterwarnings('ignore')\n"
   ]
  },
  {
   "cell_type": "code",
   "execution_count": 232,
   "id": "f69ae5b7-4a42-4987-8fc3-9acc8af3a0fe",
   "metadata": {},
   "outputs": [
    {
     "data": {
      "text/html": [
       "<div>\n",
       "<style scoped>\n",
       "    .dataframe tbody tr th:only-of-type {\n",
       "        vertical-align: middle;\n",
       "    }\n",
       "\n",
       "    .dataframe tbody tr th {\n",
       "        vertical-align: top;\n",
       "    }\n",
       "\n",
       "    .dataframe thead th {\n",
       "        text-align: right;\n",
       "    }\n",
       "</style>\n",
       "<table border=\"1\" class=\"dataframe\">\n",
       "  <thead>\n",
       "    <tr style=\"text-align: right;\">\n",
       "      <th></th>\n",
       "      <th>Loan_ID</th>\n",
       "      <th>Gender</th>\n",
       "      <th>Married</th>\n",
       "      <th>Dependents</th>\n",
       "      <th>Education</th>\n",
       "      <th>Self_Employed</th>\n",
       "      <th>ApplicantIncome</th>\n",
       "      <th>CoapplicantIncome</th>\n",
       "      <th>LoanAmount</th>\n",
       "      <th>Loan_Amount_Term</th>\n",
       "      <th>Credit_History</th>\n",
       "      <th>Property_Area</th>\n",
       "      <th>Loan_Status</th>\n",
       "    </tr>\n",
       "  </thead>\n",
       "  <tbody>\n",
       "    <tr>\n",
       "      <th>0</th>\n",
       "      <td>LP001002</td>\n",
       "      <td>Male</td>\n",
       "      <td>No</td>\n",
       "      <td>0</td>\n",
       "      <td>Graduate</td>\n",
       "      <td>No</td>\n",
       "      <td>5849.0</td>\n",
       "      <td>0.0</td>\n",
       "      <td>NaN</td>\n",
       "      <td>360.0</td>\n",
       "      <td>1.0</td>\n",
       "      <td>Urban</td>\n",
       "      <td>Y</td>\n",
       "    </tr>\n",
       "    <tr>\n",
       "      <th>1</th>\n",
       "      <td>LP001003</td>\n",
       "      <td>Male</td>\n",
       "      <td>Yes</td>\n",
       "      <td>1</td>\n",
       "      <td>Graduate</td>\n",
       "      <td>No</td>\n",
       "      <td>NaN</td>\n",
       "      <td>1508.0</td>\n",
       "      <td>128.0</td>\n",
       "      <td>360.0</td>\n",
       "      <td>1.0</td>\n",
       "      <td>Rural</td>\n",
       "      <td>N</td>\n",
       "    </tr>\n",
       "    <tr>\n",
       "      <th>2</th>\n",
       "      <td>LP001005</td>\n",
       "      <td>Male</td>\n",
       "      <td>Yes</td>\n",
       "      <td>0</td>\n",
       "      <td>Graduate</td>\n",
       "      <td>Yes</td>\n",
       "      <td>3000.0</td>\n",
       "      <td>0.0</td>\n",
       "      <td>66.0</td>\n",
       "      <td>360.0</td>\n",
       "      <td>1.0</td>\n",
       "      <td>Urban</td>\n",
       "      <td>Y</td>\n",
       "    </tr>\n",
       "    <tr>\n",
       "      <th>3</th>\n",
       "      <td>LP001006</td>\n",
       "      <td>Male</td>\n",
       "      <td>Yes</td>\n",
       "      <td>0</td>\n",
       "      <td>Not Graduate</td>\n",
       "      <td>No</td>\n",
       "      <td>2583.0</td>\n",
       "      <td>2358.0</td>\n",
       "      <td>120.0</td>\n",
       "      <td>360.0</td>\n",
       "      <td>1.0</td>\n",
       "      <td>Urban</td>\n",
       "      <td>Y</td>\n",
       "    </tr>\n",
       "    <tr>\n",
       "      <th>4</th>\n",
       "      <td>LP001008</td>\n",
       "      <td>Male</td>\n",
       "      <td>No</td>\n",
       "      <td>0</td>\n",
       "      <td>Graduate</td>\n",
       "      <td>No</td>\n",
       "      <td>6000.0</td>\n",
       "      <td>0.0</td>\n",
       "      <td>141.0</td>\n",
       "      <td>360.0</td>\n",
       "      <td>1.0</td>\n",
       "      <td>Urban</td>\n",
       "      <td>Y</td>\n",
       "    </tr>\n",
       "  </tbody>\n",
       "</table>\n",
       "</div>"
      ],
      "text/plain": [
       "    Loan_ID Gender Married Dependents     Education Self_Employed  \\\n",
       "0  LP001002   Male      No          0      Graduate            No   \n",
       "1  LP001003   Male     Yes          1      Graduate            No   \n",
       "2  LP001005   Male     Yes          0      Graduate           Yes   \n",
       "3  LP001006   Male     Yes          0  Not Graduate            No   \n",
       "4  LP001008   Male      No          0      Graduate            No   \n",
       "\n",
       "   ApplicantIncome  CoapplicantIncome  LoanAmount  Loan_Amount_Term  \\\n",
       "0           5849.0                0.0         NaN             360.0   \n",
       "1              NaN             1508.0       128.0             360.0   \n",
       "2           3000.0                0.0        66.0             360.0   \n",
       "3           2583.0             2358.0       120.0             360.0   \n",
       "4           6000.0                0.0       141.0             360.0   \n",
       "\n",
       "   Credit_History Property_Area Loan_Status  \n",
       "0             1.0         Urban           Y  \n",
       "1             1.0         Rural           N  \n",
       "2             1.0         Urban           Y  \n",
       "3             1.0         Urban           Y  \n",
       "4             1.0         Urban           Y  "
      ]
     },
     "execution_count": 232,
     "metadata": {},
     "output_type": "execute_result"
    }
   ],
   "source": [
    "# Loading the training CSV file into a DataFrame\n",
    "training_file_path = \"C:/Users/desai/OneDrive/Desktop/git_hub_projects/loan_project_final/training_set.csv\"\n",
    "trn_df = pd.read_csv(training_file_path)\n",
    "# Displaying few 5 rows of the DataFrame\n",
    "trn_df.head()"
   ]
  },
  {
   "cell_type": "code",
   "execution_count": 233,
   "id": "8bd5699e-8569-439f-b24b-a65dfc22c9e4",
   "metadata": {},
   "outputs": [
    {
     "name": "stdout",
     "output_type": "stream",
     "text": [
      "<class 'pandas.core.frame.DataFrame'>\n",
      "RangeIndex: 614 entries, 0 to 613\n",
      "Data columns (total 13 columns):\n",
      " #   Column             Non-Null Count  Dtype  \n",
      "---  ------             --------------  -----  \n",
      " 0   Loan_ID            614 non-null    object \n",
      " 1   Gender             599 non-null    object \n",
      " 2   Married            611 non-null    object \n",
      " 3   Dependents         599 non-null    object \n",
      " 4   Education          613 non-null    object \n",
      " 5   Self_Employed      582 non-null    object \n",
      " 6   ApplicantIncome    612 non-null    float64\n",
      " 7   CoapplicantIncome  613 non-null    float64\n",
      " 8   LoanAmount         592 non-null    float64\n",
      " 9   Loan_Amount_Term   600 non-null    float64\n",
      " 10  Credit_History     564 non-null    float64\n",
      " 11  Property_Area      614 non-null    object \n",
      " 12  Loan_Status        614 non-null    object \n",
      "dtypes: float64(5), object(8)\n",
      "memory usage: 62.5+ KB\n"
     ]
    }
   ],
   "source": [
    "# Displaying basic information of DataFrame\n",
    "trn_df.info()\n"
   ]
  },
  {
   "cell_type": "code",
   "execution_count": 234,
   "id": "03a49485-7b80-4c16-904d-5a4ce26084d9",
   "metadata": {},
   "outputs": [
    {
     "data": {
      "text/plain": [
       "Loan_ID              614\n",
       "Gender                 2\n",
       "Married                2\n",
       "Dependents             4\n",
       "Education              2\n",
       "Self_Employed          2\n",
       "ApplicantIncome      504\n",
       "CoapplicantIncome    286\n",
       "LoanAmount           203\n",
       "Loan_Amount_Term      10\n",
       "Credit_History         2\n",
       "Property_Area          3\n",
       "Loan_Status            2\n",
       "dtype: int64"
      ]
     },
     "execution_count": 234,
     "metadata": {},
     "output_type": "execute_result"
    }
   ],
   "source": [
    "# Check for unqiue value count in the DataFrame\n",
    "trn_df.nunique()"
   ]
  },
  {
   "cell_type": "code",
   "execution_count": 235,
   "id": "60900e3a-b080-4584-bd25-9e9a8b421804",
   "metadata": {},
   "outputs": [
    {
     "data": {
      "text/plain": [
       "Loan_ID               0\n",
       "Gender               15\n",
       "Married               3\n",
       "Dependents           15\n",
       "Education             1\n",
       "Self_Employed        32\n",
       "ApplicantIncome       2\n",
       "CoapplicantIncome     1\n",
       "LoanAmount           22\n",
       "Loan_Amount_Term     14\n",
       "Credit_History       50\n",
       "Property_Area         0\n",
       "Loan_Status           0\n",
       "dtype: int64"
      ]
     },
     "execution_count": 235,
     "metadata": {},
     "output_type": "execute_result"
    }
   ],
   "source": [
    "# Check for missing values in the DataFrame\n",
    "trn_df.isna().sum()"
   ]
  },
  {
   "cell_type": "code",
   "execution_count": 236,
   "id": "67cf296a-3385-4305-9a7f-c18bfa095d8a",
   "metadata": {},
   "outputs": [
    {
     "data": {
      "text/plain": [
       "Loan_ID              0\n",
       "Gender               0\n",
       "Married              0\n",
       "Dependents           0\n",
       "Education            0\n",
       "Self_Employed        0\n",
       "ApplicantIncome      0\n",
       "CoapplicantIncome    0\n",
       "LoanAmount           0\n",
       "Loan_Amount_Term     0\n",
       "Credit_History       0\n",
       "Property_Area        0\n",
       "Loan_Status          0\n",
       "dtype: int64"
      ]
     },
     "execution_count": 236,
     "metadata": {},
     "output_type": "execute_result"
    }
   ],
   "source": [
    "## Handling missing data by filling in missing values or dropping rows/columns\n",
    "# For numerical columns, we can fill missing values with the median\n",
    "# For categorical columns, we can fill missing values with the mode\n",
    "\n",
    "for i in trn_df.columns:\n",
    "    if trn_df[i].dtypes=='object':#categorical columns\n",
    "        x=trn_df[i].mode()[0]\n",
    "        trn_df[i]=trn_df[i].fillna(x)\n",
    "    else: #continuous column\n",
    "        x=trn_df[i].mean()\n",
    "        trn_df[i]=trn_df[i].fillna(x)\n",
    "\n",
    "\n",
    "# # Verifying no missing values left\n",
    "trn_df.isnull().sum()"
   ]
  },
  {
   "cell_type": "code",
   "execution_count": 237,
   "id": "468c67af-c852-4e28-ad7e-3b4ff8c4736d",
   "metadata": {},
   "outputs": [
    {
     "name": "stdout",
     "output_type": "stream",
     "text": [
      "<class 'pandas.core.frame.DataFrame'>\n",
      "RangeIndex: 614 entries, 0 to 613\n",
      "Data columns (total 13 columns):\n",
      " #   Column             Non-Null Count  Dtype  \n",
      "---  ------             --------------  -----  \n",
      " 0   Loan_ID            614 non-null    object \n",
      " 1   Gender             614 non-null    object \n",
      " 2   Married            614 non-null    object \n",
      " 3   Dependents         614 non-null    object \n",
      " 4   Education          614 non-null    object \n",
      " 5   Self_Employed      614 non-null    object \n",
      " 6   ApplicantIncome    614 non-null    float64\n",
      " 7   CoapplicantIncome  614 non-null    float64\n",
      " 8   LoanAmount         614 non-null    float64\n",
      " 9   Loan_Amount_Term   614 non-null    float64\n",
      " 10  Credit_History     614 non-null    float64\n",
      " 11  Property_Area      614 non-null    object \n",
      " 12  Loan_Status        614 non-null    object \n",
      "dtypes: float64(5), object(8)\n",
      "memory usage: 62.5+ KB\n"
     ]
    }
   ],
   "source": [
    "trn_df.info()"
   ]
  },
  {
   "cell_type": "code",
   "execution_count": 238,
   "id": "7dd93e42-2182-4df4-92ea-d0a3c0a74ad5",
   "metadata": {},
   "outputs": [
    {
     "name": "stdout",
     "output_type": "stream",
     "text": [
      "['Loan_ID', 'Gender', 'Married', 'Dependents', 'Education', 'Self_Employed', 'Property_Area', 'Loan_Status']\n",
      "['ApplicantIncome', 'CoapplicantIncome', 'LoanAmount', 'Loan_Amount_Term', 'Credit_History']\n"
     ]
    }
   ],
   "source": [
    "#separating the categorical and continuous column list\n",
    "#cat and cont columns list\n",
    "cat=[]\n",
    "con=[]\n",
    "for i in trn_df.columns:\n",
    "    if trn_df[i].dtypes=='object':\n",
    "        cat.append(i)\n",
    "    else:\n",
    "        con.append(i)\n",
    "#checking columns lsit\n",
    "print(cat)\n",
    "print(con)"
   ]
  },
  {
   "cell_type": "code",
   "execution_count": 239,
   "id": "3824c7cd-c8fb-4f02-bcc0-ad5fbc78e575",
   "metadata": {},
   "outputs": [],
   "source": [
    "# Treating outliers continuos column using the StandardScaler\n",
    "from sklearn.preprocessing import StandardScaler\n",
    "ss=StandardScaler()\n",
    "Q=pd.DataFrame(ss.fit_transform(trn_df[con]),columns=con)\n",
    "\n",
    "outlier_index=[]\n",
    "\n",
    "for i in con:\n",
    "    outlier_index=outlier_index+list((Q[  (Q[i] <-3) | (Q[i]>3)]).index)\n",
    "    \n",
    "    "
   ]
  },
  {
   "cell_type": "code",
   "execution_count": 240,
   "id": "b9018476-f361-43ea-8ee9-0a140f9d1e92",
   "metadata": {},
   "outputs": [
    {
     "name": "stdout",
     "output_type": "stream",
     "text": [
      "37\n",
      "[9, 14, 68, 94, 126, 130, 133, 155, 171, 177, 183, 185, 242, 262, 278, 308, 313, 333, 369, 402, 409, 417, 432, 443, 487, 495, 497, 506, 523, 525, 546, 561, 575, 581, 585, 600, 604]\n"
     ]
    }
   ],
   "source": [
    "#unique index list\n",
    "from numpy import unique\n",
    "unique_outlier_index=list(unique(outlier_index))\n",
    "print(len(unique_outlier_index))\n",
    "print(unique_outlier_index)"
   ]
  },
  {
   "cell_type": "code",
   "execution_count": 241,
   "id": "5cbd0801-f36d-440c-a0c9-d529b82719b3",
   "metadata": {},
   "outputs": [],
   "source": [
    "# removing the outliers\n",
    "trn_df=trn_df.drop(index=unique_outlier_index,axis=0)\n",
    "\n",
    "\n",
    "trn_df.index = range(trn_df.shape[0])\n",
    "\n"
   ]
  },
  {
   "cell_type": "code",
   "execution_count": 242,
   "id": "cd9b7065-a007-4632-a897-6748b483a6af",
   "metadata": {},
   "outputs": [],
   "source": [
    "def ANOVA(df:pd.DataFrame, cat: str, con: str) -> float:\n",
    "    \"\"\"\n",
    "    Performing 'Analysis of Variance' on the input DataFrame.\n",
    "\n",
    "    Parameters:\n",
    "    df (pandas.DataFrame): The input data frame containing the data.\n",
    "    cat (str): The categorical column variable name.\n",
    "    con (str): The continuous column variable name.\n",
    "\n",
    "    Returns:\n",
    "    float: The p-value from the ANOVA results, rounded to 5 decimal places.\n",
    "    \"\"\"\n",
    "    from statsmodels.formula.api import ols\n",
    "    from statsmodels.stats.anova import anova_lm\n",
    "    \n",
    "    # Create eqn. for the OLS regression model \n",
    "    eqn = f\"{con} ~ {cat}\"\n",
    "    \n",
    "    # Fit the model using the input data frame and equation\n",
    "    model = ols(eqn, df).fit()\n",
    "    \n",
    "    # Perform ANOVA on the fitted model\n",
    "    anova_results = anova_lm(model)\n",
    "    \n",
    "    # Extract and return the p-value from the ANOVA results\n",
    "    p_value = round(anova_results.iloc[0, 4], 5)\n",
    "    return p_value\n"
   ]
  },
  {
   "cell_type": "code",
   "execution_count": 243,
   "id": "2ed56ff1-5510-426c-9677-d3a75afd1dee",
   "metadata": {},
   "outputs": [
    {
     "name": "stdout",
     "output_type": "stream",
     "text": [
      "ApplicantIncome 0.89434\n",
      "CoapplicantIncome 0.28206\n",
      "LoanAmount 0.3975\n",
      "Loan_Amount_Term 0.66362\n",
      "Credit_History 0.0\n",
      "['CoapplicantIncome', 'LoanAmount', 'Credit_History']\n"
     ]
    }
   ],
   "source": [
    "critical_p_value=0.5\n",
    "con_col_accepted=[]\n",
    "\n",
    "# Significant Result (Rejecting Null Hypothesis):\n",
    "\n",
    "# F-Statistic: High value.\n",
    "# P-Value: Low (≤ 0.05).\n",
    "# Interpretation: There is strong evidence to suggest that at least one group mean is significantly different from the others.\n",
    "# Non-Significant Result (Failing to Reject Null Hypothesis):\n",
    "for i in con:\n",
    "    score=ANOVA(trn_df,\"Loan_Status\",i)\n",
    "    if score<=critical_p_value:\n",
    "        print(i,score)\n",
    "        con_col_accepted.append(i)\n",
    "    else:\n",
    "        print(i,score)\n",
    "\n",
    "print(con_col_accepted)"
   ]
  },
  {
   "cell_type": "code",
   "execution_count": 244,
   "id": "e1f1fe5b-d224-43e1-9632-650d95788dc2",
   "metadata": {},
   "outputs": [],
   "source": [
    "def chisq(df:pd.DataFrame, cat1:str, cat2:str)-> float:\n",
    "    \"\"\"\n",
    "    Perform a chi-squared test of corelation between two categorical variables in a input DataFrame.\n",
    "\n",
    "    Parameters:\n",
    "    df (pandas.DataFrame): The DataFrame containing the data.\n",
    "    cat1 (str): The name of the first categorical column.\n",
    "    cat2 (str): The name of the second categorical column.\n",
    "\n",
    "    Returns:\n",
    "    float: The p-value of the chi-squared test, rounded to 5 decimal places.\n",
    "    \"\"\"\n",
    "    import pandas as pd\n",
    "    from scipy.stats import chi2_contingency\n",
    "    \n",
    "    # Create a contingency table\n",
    "    contingency_table = pd.crosstab(df[cat1], df[cat2])\n",
    "    \n",
    "    # Perform the chi-squared test\n",
    "    chi2, p_value, dof, expected = chi2_contingency(contingency_table)\n",
    "    \n",
    "    # Return the p-value rounded to 5 decimal places\n",
    "    return round(p_value, 5)\n"
   ]
  },
  {
   "cell_type": "code",
   "execution_count": 245,
   "id": "c2476474-25a2-487e-8e98-53ad519b2a49",
   "metadata": {},
   "outputs": [
    {
     "name": "stdout",
     "output_type": "stream",
     "text": [
      "['Married', 'Education', 'Property_Area']\n"
     ]
    }
   ],
   "source": [
    "critical_p_value=0.05\n",
    "cat_col_accepted=[]\n",
    "\n",
    "# Significant Result (Rejecting Null Hypothesis):\n",
    "\n",
    "# F-Statistic: High value.\n",
    "# P-Value: Low (≤ 0.05).\n",
    "# Interpretation: There is strong evidence to suggest that at least one group mean is significantly different from the others.\n",
    "# Non-Significant Result (Failing to Reject Null Hypothesis):\n",
    "for i in cat:\n",
    "    score=chisq(trn_df,\"Loan_Status\",i)\n",
    "    if score<critical_p_value<=0.05 and i!='Loan_Status':\n",
    "        cat_col_accepted.append(i)\n",
    "# cat_col_accepted.remove('Loan_ID')\n",
    "# cat_col_accepted.remove('Loan_Status')\n",
    "print(cat_col_accepted)"
   ]
  },
  {
   "cell_type": "code",
   "execution_count": 246,
   "id": "7995e15b-a741-4460-a537-497099eb239d",
   "metadata": {},
   "outputs": [],
   "source": [
    "\n",
    "# Extract the relevant columns for features (X) and target variable (Y) from the DataFrame 'trd'\n",
    "# X = trd[con_col_accepted+cat_col_accepted]\n",
    "Y = trn_df[[\"Loan_Status\"]]\n",
    "#1. continuous column treatment\n",
    "# Scaling the data using StandardScaler\n",
    "from sklearn.preprocessing import StandardScaler\n",
    "ss = StandardScaler()\n",
    "X1=pd.DataFrame(ss.fit_transform(trn_df[con_col_accepted]),columns=con_col_accepted)\n",
    "#2. categorical column treatment\n",
    "# Converting categorical columns into dummy variables\n",
    "X2=pd.get_dummies(trn_df[cat_col_accepted])\n",
    "# X2 = pd.get_dummies(X[[\"Married\", \"Education\", \"Property_Area\", \"Credit_History\"]])\n",
    "\n",
    "# Combine the scaled continuous column with the dummy variables\n",
    "Xnew = X1.join(X2)\n",
    "from sklearn.model_selection import train_test_split\n",
    "# Split the data into training (80%) and testing (20%) sets, with a random seed for reproducibility\n",
    "xtrain,xtest,ytrain,ytest=train_test_split(Xnew,Y,test_size=0.2,random_state=21)"
   ]
  },
  {
   "cell_type": "code",
   "execution_count": 247,
   "id": "b58430d0-6355-4a8c-abf0-6ecc2cb27f13",
   "metadata": {},
   "outputs": [
    {
     "name": "stdout",
     "output_type": "stream",
     "text": [
      "<class 'pandas.core.frame.DataFrame'> <class 'pandas.core.frame.DataFrame'> <class 'pandas.core.frame.DataFrame'> <class 'pandas.core.frame.DataFrame'>\n",
      "<class 'pandas.core.frame.DataFrame'>\n"
     ]
    },
    {
     "data": {
      "text/html": [
       "<div>\n",
       "<style scoped>\n",
       "    .dataframe tbody tr th:only-of-type {\n",
       "        vertical-align: middle;\n",
       "    }\n",
       "\n",
       "    .dataframe tbody tr th {\n",
       "        vertical-align: top;\n",
       "    }\n",
       "\n",
       "    .dataframe thead th {\n",
       "        text-align: right;\n",
       "    }\n",
       "</style>\n",
       "<table border=\"1\" class=\"dataframe\">\n",
       "  <thead>\n",
       "    <tr style=\"text-align: right;\">\n",
       "      <th></th>\n",
       "      <th>Loan_Status</th>\n",
       "    </tr>\n",
       "  </thead>\n",
       "  <tbody>\n",
       "    <tr>\n",
       "      <th>0</th>\n",
       "      <td>Y</td>\n",
       "    </tr>\n",
       "    <tr>\n",
       "      <th>1</th>\n",
       "      <td>N</td>\n",
       "    </tr>\n",
       "    <tr>\n",
       "      <th>2</th>\n",
       "      <td>Y</td>\n",
       "    </tr>\n",
       "    <tr>\n",
       "      <th>3</th>\n",
       "      <td>Y</td>\n",
       "    </tr>\n",
       "    <tr>\n",
       "      <th>4</th>\n",
       "      <td>Y</td>\n",
       "    </tr>\n",
       "  </tbody>\n",
       "</table>\n",
       "</div>"
      ],
      "text/plain": [
       "  Loan_Status\n",
       "0           Y\n",
       "1           N\n",
       "2           Y\n",
       "3           Y\n",
       "4           Y"
      ]
     },
     "execution_count": 247,
     "metadata": {},
     "output_type": "execute_result"
    }
   ],
   "source": [
    "print(type(xtrain), type(ytrain), type(xtest), type(ytest))\n",
    "print(type(Y))\n",
    "Y.head()"
   ]
  },
  {
   "cell_type": "code",
   "execution_count": 248,
   "id": "c7d86256-d168-4dd2-85cd-b2950e6b7fb9",
   "metadata": {},
   "outputs": [],
   "source": [
    "# def evaluate_model(model_name:str,model:pd.DataFrame, xtrain:pd.Series, ytrain:pd.Series, xtest:pd.Series, ytest:pd.Series)->None:\n",
    "def evaluate_model(model_name,model, xtrain, ytrain, xtest, ytest):\n",
    "    \"\"\"\n",
    "    Train the given model on the training data and evaluate its accuracy on both training and testing data.\n",
    "\n",
    "    Parameters:\n",
    "    model_name (sklearn estimator): The machine learning model to be trained and evaluated.\n",
    "    xtrain (pd.DataFrame or np.ndarray): Training data predicted variable.\n",
    "    ytrain (pd.Series or np.ndarray): Training data target variable.\n",
    "    xtest (pd.DataFrame or np.ndarray): Testing data predicted variable.\n",
    "    ytest (pd.Series or np.ndarray): Testing data target variable.\n",
    "\n",
    "    Returns:\n",
    "    None\n",
    "    \"\"\"\n",
    "    # from sklearn.linear_model import LogisticRegression\n",
    "    # lr=LogisticRegression()\n",
    "    # # Ensure ytrain and ytest are Series objects\n",
    "    # if isinstance(ytrain, pd.DataFrame):\n",
    "    #     ytrain = ytrain.squeeze()  # Convert DataFrame to Series\n",
    "    # if isinstance(ytest, pd.DataFrame):\n",
    "    #     ytest = ytest.squeeze()  # Convert DataFrame to Series\n",
    "\n",
    "    # # Ensure ytrain and ytest are Series objects\n",
    "    # if isinstance(ytrain, pd.DataFrame):\n",
    "    #     ytrain = ytrain.iloc[:, 0]  # Convert DataFrame to Series\n",
    "    # if isinstance(ytest, pd.DataFrame):\n",
    "    #     ytest = ytest.iloc[:, 0]  # Convert DataFrame to Series\n",
    "    \n",
    "    # Train the model on the training data\n",
    "    model.fit(xtrain, ytrain)\n",
    "    \n",
    "    # Predicting the training data labels\n",
    "    training_pred = model.predict(xtrain)\n",
    "    \n",
    "    # Predicting the testing data labels\n",
    "    test_pred = model.predict(xtest)\n",
    "    \n",
    "    # Import accuracy_score from sklearn to evaluate the model\n",
    "    from sklearn.metrics import accuracy_score\n",
    "    \n",
    "    # Calculate the accuracy on the training data\n",
    "    train_accuracy = accuracy_score(training_pred, ytrain)\n",
    "    \n",
    "    # Calculate the accuracy on the testing data\n",
    "    test_accuracy = accuracy_score(test_pred, ytest)\n",
    "    \n",
    "    # Print the training and testing accuracies\n",
    "    print(\"-\"*20)\n",
    "    print(f\"{model_name}: Training Accuracy: {round(train_accuracy,5)}\")\n",
    "    print(f\"{model_name}: Testing Accuracy: {round(test_accuracy,5)}\")\n"
   ]
  },
  {
   "cell_type": "code",
   "execution_count": 249,
   "id": "addf24d3-2ded-4f8a-b3b9-6a4334e45115",
   "metadata": {},
   "outputs": [
    {
     "name": "stdout",
     "output_type": "stream",
     "text": [
      "--------------------\n",
      "LogisticRegression: Training Accuracy: 0.80911\n",
      "LogisticRegression: Testing Accuracy: 0.83621\n",
      "--------------------\n",
      "DecisionTreeClassifier: Training Accuracy: 0.98482\n",
      "DecisionTreeClassifier: Testing Accuracy: 0.69828\n",
      "--------------------\n",
      "RandomForestClassifier: Training Accuracy: 0.97614\n",
      "RandomForestClassifier: Testing Accuracy: 0.75\n",
      "--------------------\n",
      "AdaBoostClassifier: Training Accuracy: 0.91323\n",
      "AdaBoostClassifier: Testing Accuracy: 0.75\n",
      "--------------------\n",
      "KNeighborsClassifier: Training Accuracy: 0.83731\n",
      "KNeighborsClassifier: Testing Accuracy: 0.78448\n"
     ]
    }
   ],
   "source": [
    "#logistcRegression\n",
    "from sklearn.linear_model import LogisticRegression\n",
    "lr=LogisticRegression()\n",
    "#DecisionTreeClassifier\n",
    "from sklearn.tree import DecisionTreeClassifier\n",
    "dtc=DecisionTreeClassifier(random_state=11)\n",
    "#\n",
    "from sklearn.ensemble import RandomForestClassifier\n",
    "rfc=RandomForestClassifier(n_estimators=20)\n",
    "from sklearn.ensemble import AdaBoostClassifier\n",
    "abc=AdaBoostClassifier(DecisionTreeClassifier(max_depth=2),n_estimators=40)\n",
    "\n",
    "from sklearn.neighbors import KNeighborsClassifier\n",
    "knn=KNeighborsClassifier(n_neighbors=5)\n",
    "model_dict={'LogisticRegression':lr,\n",
    "            \"DecisionTreeClassifier\":dtc,\n",
    "            \"RandomForestClassifier\":rfc,\n",
    "            \"AdaBoostClassifier\":abc,\n",
    "            \"KNeighborsClassifier\":knn\n",
    "    \n",
    "}\n",
    "for model_name in model_dict:\n",
    "    \n",
    "    evaluate_model(model_name,model_dict[model_name],xtrain, ytrain, xtest, ytest)\n",
    "\n",
    "\n"
   ]
  },
  {
   "cell_type": "code",
   "execution_count": null,
   "id": "3e998f02-77ba-4f0c-a41a-8f7cf2e5e3af",
   "metadata": {},
   "outputs": [],
   "source": [
    "#Performing the "
   ]
  },
  {
   "cell_type": "code",
   "execution_count": 250,
   "id": "ffe4a592-5658-4878-904b-a903803ac0c7",
   "metadata": {},
   "outputs": [
    {
     "name": "stdout",
     "output_type": "stream",
     "text": [
      "{'algorithm': 'auto', 'n_neighbors': 17, 'weights': 'uniform'}\n"
     ]
    }
   ],
   "source": [
    "from sklearn.neighbors import KNeighborsClassifier\n",
    "from sklearn.model_selection import GridSearchCV\n",
    "\n",
    "# Define the parameter grid for KNeighborsClassifier\n",
    "param_grid = {\n",
    "    'n_neighbors': range(1, 31),  # Typically you might test neighbors from 1 to 30\n",
    "    'weights': ['uniform', 'distance'],  # Use uniform or distance weights\n",
    "    'algorithm': ['auto', 'ball_tree', 'kd_tree', 'brute']  # Different algorithms for KNN\n",
    "}\n",
    "\n",
    "# Create an instance of KNeighborsClassifier\n",
    "knn = KNeighborsClassifier()\n",
    "\n",
    "# Create the GridSearchCV object\n",
    "cv = GridSearchCV(knn, param_grid, scoring='accuracy', cv=4)  # You can change the scoring parameter based on your metric\n",
    "\n",
    "# Fit the GridSearchCV object to the data\n",
    "# cv_model = cv.fit(Xnew, Y.values.ravel())  # Use .values.ravel() to convert Y to a 1D array if needed\n",
    "cv_model = cv.fit(Xnew, Y)  # Use .values.ravel() to convert Y to a 1D array if needed\n",
    "\n",
    "# Print the best parameters found by GridSearchCV\n",
    "print(cv_model.best_params_)"
   ]
  },
  {
   "cell_type": "code",
   "execution_count": 252,
   "id": "72e1b792-afc2-4aa7-9f51-aaaf31dd7a63",
   "metadata": {},
   "outputs": [
    {
     "name": "stdout",
     "output_type": "stream",
     "text": [
      "--------------------\n",
      "KNeighborsClassifier: Training Accuracy: 0.81128\n",
      "KNeighborsClassifier: Testing Accuracy: 0.83621\n"
     ]
    }
   ],
   "source": [
    "knn = KNeighborsClassifier(n_neighbors=17,weights= 'uniform',algorithm= 'auto')\n",
    "evaluate_model('KNeighborsClassifier',knn,xtrain, ytrain, xtest, ytest)"
   ]
  },
  {
   "cell_type": "code",
   "execution_count": 254,
   "id": "22bcb01d-9b14-4c8f-b4b3-708852ea93e0",
   "metadata": {},
   "outputs": [],
   "source": [
    "# now Training Model With the entire data\n",
    "knnc = KNeighborsClassifier(n_neighbors=17,weights= 'uniform',algorithm= 'auto')\n",
    "model=knnc.fit(Xnew,Y)\n"
   ]
  },
  {
   "cell_type": "code",
   "execution_count": 255,
   "id": "1e86f06e-069d-484e-b216-88149019e894",
   "metadata": {},
   "outputs": [
    {
     "data": {
      "text/html": [
       "<div>\n",
       "<style scoped>\n",
       "    .dataframe tbody tr th:only-of-type {\n",
       "        vertical-align: middle;\n",
       "    }\n",
       "\n",
       "    .dataframe tbody tr th {\n",
       "        vertical-align: top;\n",
       "    }\n",
       "\n",
       "    .dataframe thead th {\n",
       "        text-align: right;\n",
       "    }\n",
       "</style>\n",
       "<table border=\"1\" class=\"dataframe\">\n",
       "  <thead>\n",
       "    <tr style=\"text-align: right;\">\n",
       "      <th></th>\n",
       "      <th>Loan_ID</th>\n",
       "      <th>Gender</th>\n",
       "      <th>Married</th>\n",
       "      <th>Dependents</th>\n",
       "      <th>Education</th>\n",
       "      <th>Self_Employed</th>\n",
       "      <th>ApplicantIncome</th>\n",
       "      <th>CoapplicantIncome</th>\n",
       "      <th>LoanAmount</th>\n",
       "      <th>Loan_Amount_Term</th>\n",
       "      <th>Credit_History</th>\n",
       "      <th>Property_Area</th>\n",
       "    </tr>\n",
       "  </thead>\n",
       "  <tbody>\n",
       "    <tr>\n",
       "      <th>0</th>\n",
       "      <td>LP001015</td>\n",
       "      <td>Male</td>\n",
       "      <td>Yes</td>\n",
       "      <td>0</td>\n",
       "      <td>Graduate</td>\n",
       "      <td>No</td>\n",
       "      <td>5720</td>\n",
       "      <td>0</td>\n",
       "      <td>110.0</td>\n",
       "      <td>360.0</td>\n",
       "      <td>1.0</td>\n",
       "      <td>Urban</td>\n",
       "    </tr>\n",
       "    <tr>\n",
       "      <th>1</th>\n",
       "      <td>LP001022</td>\n",
       "      <td>Male</td>\n",
       "      <td>Yes</td>\n",
       "      <td>1</td>\n",
       "      <td>Graduate</td>\n",
       "      <td>No</td>\n",
       "      <td>3076</td>\n",
       "      <td>1500</td>\n",
       "      <td>126.0</td>\n",
       "      <td>360.0</td>\n",
       "      <td>1.0</td>\n",
       "      <td>Urban</td>\n",
       "    </tr>\n",
       "    <tr>\n",
       "      <th>2</th>\n",
       "      <td>LP001031</td>\n",
       "      <td>Male</td>\n",
       "      <td>Yes</td>\n",
       "      <td>2</td>\n",
       "      <td>Graduate</td>\n",
       "      <td>No</td>\n",
       "      <td>5000</td>\n",
       "      <td>1800</td>\n",
       "      <td>208.0</td>\n",
       "      <td>360.0</td>\n",
       "      <td>1.0</td>\n",
       "      <td>Urban</td>\n",
       "    </tr>\n",
       "    <tr>\n",
       "      <th>3</th>\n",
       "      <td>LP001035</td>\n",
       "      <td>Male</td>\n",
       "      <td>Yes</td>\n",
       "      <td>2</td>\n",
       "      <td>Graduate</td>\n",
       "      <td>No</td>\n",
       "      <td>2340</td>\n",
       "      <td>2546</td>\n",
       "      <td>100.0</td>\n",
       "      <td>360.0</td>\n",
       "      <td>NaN</td>\n",
       "      <td>Urban</td>\n",
       "    </tr>\n",
       "    <tr>\n",
       "      <th>4</th>\n",
       "      <td>LP001051</td>\n",
       "      <td>Male</td>\n",
       "      <td>No</td>\n",
       "      <td>0</td>\n",
       "      <td>Not Graduate</td>\n",
       "      <td>No</td>\n",
       "      <td>3276</td>\n",
       "      <td>0</td>\n",
       "      <td>78.0</td>\n",
       "      <td>360.0</td>\n",
       "      <td>1.0</td>\n",
       "      <td>Urban</td>\n",
       "    </tr>\n",
       "  </tbody>\n",
       "</table>\n",
       "</div>"
      ],
      "text/plain": [
       "    Loan_ID Gender Married Dependents     Education Self_Employed  \\\n",
       "0  LP001015   Male     Yes          0      Graduate            No   \n",
       "1  LP001022   Male     Yes          1      Graduate            No   \n",
       "2  LP001031   Male     Yes          2      Graduate            No   \n",
       "3  LP001035   Male     Yes          2      Graduate            No   \n",
       "4  LP001051   Male      No          0  Not Graduate            No   \n",
       "\n",
       "   ApplicantIncome  CoapplicantIncome  LoanAmount  Loan_Amount_Term  \\\n",
       "0             5720                  0       110.0             360.0   \n",
       "1             3076               1500       126.0             360.0   \n",
       "2             5000               1800       208.0             360.0   \n",
       "3             2340               2546       100.0             360.0   \n",
       "4             3276                  0        78.0             360.0   \n",
       "\n",
       "   Credit_History Property_Area  \n",
       "0             1.0         Urban  \n",
       "1             1.0         Urban  \n",
       "2             1.0         Urban  \n",
       "3             NaN         Urban  \n",
       "4             1.0         Urban  "
      ]
     },
     "execution_count": 255,
     "metadata": {},
     "output_type": "execute_result"
    }
   ],
   "source": [
    "# Preparing the DataSet for Testing \n",
    "\n",
    "testing_Dataset=\"C:/Users/desai/OneDrive/Desktop/git_hub_projects/assign_ment/loan_assignment/testing_set.csv\"\n",
    "test_df=pd.read_csv(testing_Dataset)\n",
    "test_df.head()\n"
   ]
  },
  {
   "cell_type": "code",
   "execution_count": 256,
   "id": "2f11671f-3390-402f-af81-67f7d183df29",
   "metadata": {},
   "outputs": [
    {
     "name": "stdout",
     "output_type": "stream",
     "text": [
      "<class 'pandas.core.frame.DataFrame'>\n",
      "RangeIndex: 367 entries, 0 to 366\n",
      "Data columns (total 12 columns):\n",
      " #   Column             Non-Null Count  Dtype  \n",
      "---  ------             --------------  -----  \n",
      " 0   Loan_ID            367 non-null    object \n",
      " 1   Gender             356 non-null    object \n",
      " 2   Married            367 non-null    object \n",
      " 3   Dependents         357 non-null    object \n",
      " 4   Education          367 non-null    object \n",
      " 5   Self_Employed      344 non-null    object \n",
      " 6   ApplicantIncome    367 non-null    int64  \n",
      " 7   CoapplicantIncome  367 non-null    int64  \n",
      " 8   LoanAmount         362 non-null    float64\n",
      " 9   Loan_Amount_Term   361 non-null    float64\n",
      " 10  Credit_History     338 non-null    float64\n",
      " 11  Property_Area      367 non-null    object \n",
      "dtypes: float64(3), int64(2), object(7)\n",
      "memory usage: 34.5+ KB\n"
     ]
    }
   ],
   "source": [
    "test_df.info()"
   ]
  },
  {
   "cell_type": "code",
   "execution_count": 270,
   "id": "f3921a19-686a-4155-885d-75cb14cef6f2",
   "metadata": {},
   "outputs": [],
   "source": [
    "#treating the missing Data and the scaling teh continuous data\n",
    "\n",
    "for i in test_df.columns:\n",
    "    if test_df[i].dtypes=='object':\n",
    "        x=test_df[i].mode()[0]\n",
    "        test_df[i]=test_df[i].fillna(x)\n",
    "    else:\n",
    "        x=test_df[i].mean()\n",
    "        test_df[i]=test_df[i].fillna(x)\n"
   ]
  },
  {
   "cell_type": "code",
   "execution_count": 272,
   "id": "dc846693-e2fd-4d51-8270-d24810ee6c4d",
   "metadata": {},
   "outputs": [],
   "source": [
    "from sklearn.preprocessing import StandardScaler\n",
    "ss=StandardScaler()\n",
    "X1_testdf=pd.DataFrame(test_df[con_col_accepted],columns=con_col_accepted)\n",
    "X2_testdf=pd.get_dummies(test_df[cat_col_accepted])\n",
    "Xnew_testdf=X1_testdf.join(X2_testdf)"
   ]
  },
  {
   "cell_type": "code",
   "execution_count": 273,
   "id": "49fd418d-27ab-4c65-8f09-f0a6400c68ac",
   "metadata": {},
   "outputs": [],
   "source": [
    "approval_result=pd.DataFrame(model.predict(Xnew_testdf),columns=['Loan_Status'])\n",
    "approval_result['Loan_ID']=test_df['Loan_ID']"
   ]
  },
  {
   "cell_type": "code",
   "execution_count": 274,
   "id": "306a46df-1042-4ddf-9841-2fc8d6821087",
   "metadata": {},
   "outputs": [
    {
     "data": {
      "text/html": [
       "<div>\n",
       "<style scoped>\n",
       "    .dataframe tbody tr th:only-of-type {\n",
       "        vertical-align: middle;\n",
       "    }\n",
       "\n",
       "    .dataframe tbody tr th {\n",
       "        vertical-align: top;\n",
       "    }\n",
       "\n",
       "    .dataframe thead th {\n",
       "        text-align: right;\n",
       "    }\n",
       "</style>\n",
       "<table border=\"1\" class=\"dataframe\">\n",
       "  <thead>\n",
       "    <tr style=\"text-align: right;\">\n",
       "      <th></th>\n",
       "      <th>Loan_Status</th>\n",
       "      <th>Loan_ID</th>\n",
       "    </tr>\n",
       "  </thead>\n",
       "  <tbody>\n",
       "    <tr>\n",
       "      <th>0</th>\n",
       "      <td>Y</td>\n",
       "      <td>LP001015</td>\n",
       "    </tr>\n",
       "    <tr>\n",
       "      <th>1</th>\n",
       "      <td>Y</td>\n",
       "      <td>LP001022</td>\n",
       "    </tr>\n",
       "    <tr>\n",
       "      <th>2</th>\n",
       "      <td>Y</td>\n",
       "      <td>LP001031</td>\n",
       "    </tr>\n",
       "    <tr>\n",
       "      <th>3</th>\n",
       "      <td>Y</td>\n",
       "      <td>LP001035</td>\n",
       "    </tr>\n",
       "    <tr>\n",
       "      <th>4</th>\n",
       "      <td>Y</td>\n",
       "      <td>LP001051</td>\n",
       "    </tr>\n",
       "  </tbody>\n",
       "</table>\n",
       "</div>"
      ],
      "text/plain": [
       "  Loan_Status   Loan_ID\n",
       "0           Y  LP001015\n",
       "1           Y  LP001022\n",
       "2           Y  LP001031\n",
       "3           Y  LP001035\n",
       "4           Y  LP001051"
      ]
     },
     "execution_count": 274,
     "metadata": {},
     "output_type": "execute_result"
    }
   ],
   "source": [
    "approval_result.head()\n"
   ]
  },
  {
   "cell_type": "code",
   "execution_count": 275,
   "id": "f9a2565d-3061-417d-adc1-860ea3bd9972",
   "metadata": {},
   "outputs": [
    {
     "name": "stdout",
     "output_type": "stream",
     "text": [
      "<class 'pandas.core.frame.DataFrame'>\n",
      "RangeIndex: 367 entries, 0 to 366\n",
      "Data columns (total 2 columns):\n",
      " #   Column       Non-Null Count  Dtype \n",
      "---  ------       --------------  ----- \n",
      " 0   Loan_Status  367 non-null    object\n",
      " 1   Loan_ID      367 non-null    object\n",
      "dtypes: object(2)\n",
      "memory usage: 5.9+ KB\n"
     ]
    }
   ],
   "source": [
    "approval_result.info()"
   ]
  },
  {
   "cell_type": "code",
   "execution_count": 277,
   "id": "6ca880b5-8182-47d1-9c22-0c1333c33863",
   "metadata": {},
   "outputs": [],
   "source": [
    "approval_result.to_csv(\"C:/Users/desai/OneDrive/Desktop/git_hub_projects/loan_project_final/approval_status.csv\")"
   ]
  },
  {
   "cell_type": "code",
   "execution_count": null,
   "id": "cdedeb1b-544a-4db5-b01b-60aa044badbf",
   "metadata": {},
   "outputs": [],
   "source": []
  },
  {
   "cell_type": "code",
   "execution_count": null,
   "id": "6b7064de-263c-4210-a555-8117e57cd639",
   "metadata": {},
   "outputs": [],
   "source": []
  }
 ],
 "metadata": {
  "kernelspec": {
   "display_name": "Python 3 (ipykernel)",
   "language": "python",
   "name": "python3"
  },
  "language_info": {
   "codemirror_mode": {
    "name": "ipython",
    "version": 3
   },
   "file_extension": ".py",
   "mimetype": "text/x-python",
   "name": "python",
   "nbconvert_exporter": "python",
   "pygments_lexer": "ipython3",
   "version": "3.10.14"
  }
 },
 "nbformat": 4,
 "nbformat_minor": 5
}
