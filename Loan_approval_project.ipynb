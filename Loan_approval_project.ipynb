{
 "cells": [
  {
   "cell_type": "code",
   "execution_count": 42,
   "id": "a8b5e504-40bf-4573-ba8d-78a49ea8b8a6",
   "metadata": {},
   "outputs": [],
   "source": [
    "import pandas as pd \n",
    "from warnings import filterwarnings\n",
    "filterwarnings('ignore')"
   ]
  },
  {
   "cell_type": "code",
   "execution_count": 43,
   "id": "f69ae5b7-4a42-4987-8fc3-9acc8af3a0fe",
   "metadata": {},
   "outputs": [],
   "source": [
    "A=pd.read_csv(\"C:/Users/desai/OneDrive/Desktop/git_hub_projects/loan_project_final/training_set.csv\")"
   ]
  },
  {
   "cell_type": "code",
   "execution_count": 44,
   "id": "8bd5699e-8569-439f-b24b-a65dfc22c9e4",
   "metadata": {},
   "outputs": [
    {
     "name": "stdout",
     "output_type": "stream",
     "text": [
      "<class 'pandas.core.frame.DataFrame'>\n",
      "RangeIndex: 614 entries, 0 to 613\n",
      "Data columns (total 13 columns):\n",
      " #   Column             Non-Null Count  Dtype  \n",
      "---  ------             --------------  -----  \n",
      " 0   Loan_ID            614 non-null    object \n",
      " 1   Gender             599 non-null    object \n",
      " 2   Married            611 non-null    object \n",
      " 3   Dependents         599 non-null    object \n",
      " 4   Education          613 non-null    object \n",
      " 5   Self_Employed      582 non-null    object \n",
      " 6   ApplicantIncome    612 non-null    float64\n",
      " 7   CoapplicantIncome  613 non-null    float64\n",
      " 8   LoanAmount         592 non-null    float64\n",
      " 9   Loan_Amount_Term   600 non-null    float64\n",
      " 10  Credit_History     564 non-null    float64\n",
      " 11  Property_Area      614 non-null    object \n",
      " 12  Loan_Status        614 non-null    object \n",
      "dtypes: float64(5), object(8)\n",
      "memory usage: 62.5+ KB\n"
     ]
    }
   ],
   "source": [
    "A.info()"
   ]
  },
  {
   "cell_type": "code",
   "execution_count": 45,
   "id": "60900e3a-b080-4584-bd25-9e9a8b421804",
   "metadata": {},
   "outputs": [
    {
     "data": {
      "text/html": [
       "<div>\n",
       "<style scoped>\n",
       "    .dataframe tbody tr th:only-of-type {\n",
       "        vertical-align: middle;\n",
       "    }\n",
       "\n",
       "    .dataframe tbody tr th {\n",
       "        vertical-align: top;\n",
       "    }\n",
       "\n",
       "    .dataframe thead th {\n",
       "        text-align: right;\n",
       "    }\n",
       "</style>\n",
       "<table border=\"1\" class=\"dataframe\">\n",
       "  <thead>\n",
       "    <tr style=\"text-align: right;\">\n",
       "      <th></th>\n",
       "      <th>Loan_ID</th>\n",
       "      <th>Gender</th>\n",
       "      <th>Married</th>\n",
       "      <th>Dependents</th>\n",
       "      <th>Education</th>\n",
       "      <th>Self_Employed</th>\n",
       "      <th>ApplicantIncome</th>\n",
       "      <th>CoapplicantIncome</th>\n",
       "      <th>LoanAmount</th>\n",
       "      <th>Loan_Amount_Term</th>\n",
       "      <th>Credit_History</th>\n",
       "      <th>Property_Area</th>\n",
       "      <th>Loan_Status</th>\n",
       "    </tr>\n",
       "  </thead>\n",
       "  <tbody>\n",
       "    <tr>\n",
       "      <th>0</th>\n",
       "      <td>LP001002</td>\n",
       "      <td>Male</td>\n",
       "      <td>No</td>\n",
       "      <td>0</td>\n",
       "      <td>Graduate</td>\n",
       "      <td>No</td>\n",
       "      <td>5849.0</td>\n",
       "      <td>0.0</td>\n",
       "      <td>NaN</td>\n",
       "      <td>360.0</td>\n",
       "      <td>1.0</td>\n",
       "      <td>Urban</td>\n",
       "      <td>Y</td>\n",
       "    </tr>\n",
       "    <tr>\n",
       "      <th>1</th>\n",
       "      <td>LP001003</td>\n",
       "      <td>Male</td>\n",
       "      <td>Yes</td>\n",
       "      <td>1</td>\n",
       "      <td>Graduate</td>\n",
       "      <td>No</td>\n",
       "      <td>NaN</td>\n",
       "      <td>1508.0</td>\n",
       "      <td>128.0</td>\n",
       "      <td>360.0</td>\n",
       "      <td>1.0</td>\n",
       "      <td>Rural</td>\n",
       "      <td>N</td>\n",
       "    </tr>\n",
       "    <tr>\n",
       "      <th>2</th>\n",
       "      <td>LP001005</td>\n",
       "      <td>Male</td>\n",
       "      <td>Yes</td>\n",
       "      <td>0</td>\n",
       "      <td>Graduate</td>\n",
       "      <td>Yes</td>\n",
       "      <td>3000.0</td>\n",
       "      <td>0.0</td>\n",
       "      <td>66.0</td>\n",
       "      <td>360.0</td>\n",
       "      <td>1.0</td>\n",
       "      <td>Urban</td>\n",
       "      <td>Y</td>\n",
       "    </tr>\n",
       "    <tr>\n",
       "      <th>3</th>\n",
       "      <td>LP001006</td>\n",
       "      <td>Male</td>\n",
       "      <td>Yes</td>\n",
       "      <td>0</td>\n",
       "      <td>Not Graduate</td>\n",
       "      <td>No</td>\n",
       "      <td>2583.0</td>\n",
       "      <td>2358.0</td>\n",
       "      <td>120.0</td>\n",
       "      <td>360.0</td>\n",
       "      <td>1.0</td>\n",
       "      <td>Urban</td>\n",
       "      <td>Y</td>\n",
       "    </tr>\n",
       "    <tr>\n",
       "      <th>4</th>\n",
       "      <td>LP001008</td>\n",
       "      <td>Male</td>\n",
       "      <td>No</td>\n",
       "      <td>0</td>\n",
       "      <td>Graduate</td>\n",
       "      <td>No</td>\n",
       "      <td>6000.0</td>\n",
       "      <td>0.0</td>\n",
       "      <td>141.0</td>\n",
       "      <td>360.0</td>\n",
       "      <td>1.0</td>\n",
       "      <td>Urban</td>\n",
       "      <td>Y</td>\n",
       "    </tr>\n",
       "  </tbody>\n",
       "</table>\n",
       "</div>"
      ],
      "text/plain": [
       "    Loan_ID Gender Married Dependents     Education Self_Employed  \\\n",
       "0  LP001002   Male      No          0      Graduate            No   \n",
       "1  LP001003   Male     Yes          1      Graduate            No   \n",
       "2  LP001005   Male     Yes          0      Graduate           Yes   \n",
       "3  LP001006   Male     Yes          0  Not Graduate            No   \n",
       "4  LP001008   Male      No          0      Graduate            No   \n",
       "\n",
       "   ApplicantIncome  CoapplicantIncome  LoanAmount  Loan_Amount_Term  \\\n",
       "0           5849.0                0.0         NaN             360.0   \n",
       "1              NaN             1508.0       128.0             360.0   \n",
       "2           3000.0                0.0        66.0             360.0   \n",
       "3           2583.0             2358.0       120.0             360.0   \n",
       "4           6000.0                0.0       141.0             360.0   \n",
       "\n",
       "   Credit_History Property_Area Loan_Status  \n",
       "0             1.0         Urban           Y  \n",
       "1             1.0         Rural           N  \n",
       "2             1.0         Urban           Y  \n",
       "3             1.0         Urban           Y  \n",
       "4             1.0         Urban           Y  "
      ]
     },
     "execution_count": 45,
     "metadata": {},
     "output_type": "execute_result"
    }
   ],
   "source": [
    "A.head()"
   ]
  },
  {
   "cell_type": "code",
   "execution_count": 46,
   "id": "09116c4c-a70e-4205-bea0-6e7b891391f4",
   "metadata": {},
   "outputs": [],
   "source": [
    "#cat and cont columns list\n",
    "cat=[]\n",
    "con=[]\n",
    "for i in A.columns:\n",
    "    if A[i].dtypes=='object':\n",
    "        cat.append(i)\n",
    "    else:\n",
    "        con.append(i)\n",
    "        "
   ]
  },
  {
   "cell_type": "code",
   "execution_count": 47,
   "id": "6a797c68-d8e6-45be-8270-7928b0d38037",
   "metadata": {},
   "outputs": [
    {
     "name": "stdout",
     "output_type": "stream",
     "text": [
      "['Loan_ID', 'Gender', 'Married', 'Dependents', 'Education', 'Self_Employed', 'Property_Area', 'Loan_Status']\n",
      "['ApplicantIncome', 'CoapplicantIncome', 'LoanAmount', 'Loan_Amount_Term', 'Credit_History']\n"
     ]
    }
   ],
   "source": [
    "print(cat)\n",
    "print(con)"
   ]
  },
  {
   "cell_type": "code",
   "execution_count": null,
   "id": "d1968a6b-f90d-445c-b7e0-004397e993c7",
   "metadata": {},
   "outputs": [],
   "source": []
  },
  {
   "cell_type": "code",
   "execution_count": 48,
   "id": "47d87eca-de8a-4ddd-a82d-a3d0335a1b4b",
   "metadata": {},
   "outputs": [],
   "source": [
    "#Checking Missing Data"
   ]
  },
  {
   "cell_type": "code",
   "execution_count": 49,
   "id": "6a25cb23-e4a1-4c3f-a679-4f6681a649a8",
   "metadata": {},
   "outputs": [
    {
     "data": {
      "text/plain": [
       "Loan_ID               0\n",
       "Gender               15\n",
       "Married               3\n",
       "Dependents           15\n",
       "Education             1\n",
       "Self_Employed        32\n",
       "ApplicantIncome       2\n",
       "CoapplicantIncome     1\n",
       "LoanAmount           22\n",
       "Loan_Amount_Term     14\n",
       "Credit_History       50\n",
       "Property_Area         0\n",
       "Loan_Status           0\n",
       "dtype: int64"
      ]
     },
     "execution_count": 49,
     "metadata": {},
     "output_type": "execute_result"
    }
   ],
   "source": [
    "A.isna().sum()"
   ]
  },
  {
   "cell_type": "code",
   "execution_count": 50,
   "id": "55efcc7e-f0c6-46cc-a9c6-9e307949042b",
   "metadata": {},
   "outputs": [],
   "source": [
    "#missing Data Treatment"
   ]
  },
  {
   "cell_type": "code",
   "execution_count": 51,
   "id": "cc751161-8b0a-4714-b348-6b5930d995af",
   "metadata": {},
   "outputs": [],
   "source": [
    "for i in A.columns:\n",
    "    if A[i].dtypes=='object':\n",
    "        x=A[i].mode()[0]\n",
    "        A[i]=A[i].fillna(x)\n",
    "    else:\n",
    "        x=A[i].mean()\n",
    "        A[i]=A[i].fillna(x)"
   ]
  },
  {
   "cell_type": "code",
   "execution_count": 52,
   "id": "d94ce989-8188-464b-ae91-9c9ac6dd8f05",
   "metadata": {},
   "outputs": [
    {
     "data": {
      "text/plain": [
       "Loan_ID              0\n",
       "Gender               0\n",
       "Married              0\n",
       "Dependents           0\n",
       "Education            0\n",
       "Self_Employed        0\n",
       "ApplicantIncome      0\n",
       "CoapplicantIncome    0\n",
       "LoanAmount           0\n",
       "Loan_Amount_Term     0\n",
       "Credit_History       0\n",
       "Property_Area        0\n",
       "Loan_Status          0\n",
       "dtype: int64"
      ]
     },
     "execution_count": 52,
     "metadata": {},
     "output_type": "execute_result"
    }
   ],
   "source": [
    "A.isna().sum()"
   ]
  },
  {
   "cell_type": "code",
   "execution_count": 19,
   "id": "8e41e799-fa47-4334-b888-01cea5c657e9",
   "metadata": {},
   "outputs": [],
   "source": [
    " # outlier "
   ]
  },
  {
   "cell_type": "code",
   "execution_count": 21,
   "id": "67037d41-a4b3-41c0-be1c-656e0ccc43b5",
   "metadata": {},
   "outputs": [],
   "source": [
    "from sklearn.preprocessing import StandardScaler"
   ]
  },
  {
   "cell_type": "code",
   "execution_count": 23,
   "id": "579ed8e8-8158-46c0-920f-c69ecfca2afb",
   "metadata": {},
   "outputs": [],
   "source": [
    "ss=StandardScaler()\n",
    "Q=pd.DataFrame(ss.fit_transform(A[con]),columns=con)"
   ]
  },
  {
   "cell_type": "code",
   "execution_count": 27,
   "id": "ea5268bc-e1c7-43f0-9ea6-e01803a3332d",
   "metadata": {},
   "outputs": [],
   "source": [
    "# now checking outliers in each columns\n",
    "outliers=[]\n",
    "for i in con:\n",
    "    outliers=outliers+list(Q[(Q[i]>3)| (Q[i]<-3)].index)"
   ]
  },
  {
   "cell_type": "code",
   "execution_count": 31,
   "id": "8d810387-497e-48f5-8cbf-6073e10015e8",
   "metadata": {},
   "outputs": [
    {
     "data": {
      "text/plain": [
       "41"
      ]
     },
     "execution_count": 31,
     "metadata": {},
     "output_type": "execute_result"
    }
   ],
   "source": [
    "#chekcing unique Entries\n",
    "len(outliers)"
   ]
  },
  {
   "cell_type": "code",
   "execution_count": 33,
   "id": "6d0cc2a9-a4aa-4dc0-8bf5-0fc6405990e4",
   "metadata": {},
   "outputs": [
    {
     "data": {
      "text/plain": [
       "37"
      ]
     },
     "execution_count": 33,
     "metadata": {},
     "output_type": "execute_result"
    }
   ],
   "source": [
    "from numpy import unique\n",
    "unqiue_outliers_index=unique(outliers)\n",
    "len(unqiue_outliers_index)"
   ]
  },
  {
   "cell_type": "code",
   "execution_count": 34,
   "id": "aa70f364-1fca-4d32-b4ad-c6b201a5daaa",
   "metadata": {},
   "outputs": [],
   "source": [
    "#dropping Outliers index\n"
   ]
  },
  {
   "cell_type": "code",
   "execution_count": 35,
   "id": "ef72c500-57be-4f8f-a624-68579892742c",
   "metadata": {},
   "outputs": [],
   "source": [
    "A=A.drop(index=unqiue_outliers_index,axis=0)"
   ]
  },
  {
   "cell_type": "code",
   "execution_count": 36,
   "id": "cb0edb43-0b6a-420c-83ff-f53068a00f6a",
   "metadata": {},
   "outputs": [
    {
     "name": "stdout",
     "output_type": "stream",
     "text": [
      "<class 'pandas.core.frame.DataFrame'>\n",
      "Index: 577 entries, 0 to 613\n",
      "Data columns (total 13 columns):\n",
      " #   Column             Non-Null Count  Dtype  \n",
      "---  ------             --------------  -----  \n",
      " 0   Loan_ID            577 non-null    object \n",
      " 1   Gender             577 non-null    object \n",
      " 2   Married            577 non-null    object \n",
      " 3   Dependents         577 non-null    object \n",
      " 4   Education          577 non-null    object \n",
      " 5   Self_Employed      577 non-null    object \n",
      " 6   ApplicantIncome    577 non-null    float64\n",
      " 7   CoapplicantIncome  577 non-null    float64\n",
      " 8   LoanAmount         577 non-null    float64\n",
      " 9   Loan_Amount_Term   577 non-null    float64\n",
      " 10  Credit_History     577 non-null    float64\n",
      " 11  Property_Area      577 non-null    object \n",
      " 12  Loan_Status        577 non-null    object \n",
      "dtypes: float64(5), object(8)\n",
      "memory usage: 63.1+ KB\n"
     ]
    }
   ],
   "source": [
    "A.info()"
   ]
  },
  {
   "cell_type": "code",
   "execution_count": 37,
   "id": "e3d220c3-4d56-4a14-bfec-7855ff7d6527",
   "metadata": {},
   "outputs": [],
   "source": [
    "#renaming the indices"
   ]
  },
  {
   "cell_type": "code",
   "execution_count": 39,
   "id": "e59fd42e-7234-4faa-9821-1cf6cc8c819a",
   "metadata": {},
   "outputs": [
    {
     "data": {
      "text/plain": [
       "(577, 13)"
      ]
     },
     "execution_count": 39,
     "metadata": {},
     "output_type": "execute_result"
    }
   ],
   "source": [
    "A.shape"
   ]
  },
  {
   "cell_type": "code",
   "execution_count": 40,
   "id": "da051bb1-0296-45ff-aaf8-7672bb6ce21d",
   "metadata": {},
   "outputs": [],
   "source": [
    "A.index=range(A.shape[0])"
   ]
  },
  {
   "cell_type": "code",
   "execution_count": 41,
   "id": "279b82ef-1eaa-4822-8251-1484458fd2dd",
   "metadata": {},
   "outputs": [
    {
     "data": {
      "text/html": [
       "<div>\n",
       "<style scoped>\n",
       "    .dataframe tbody tr th:only-of-type {\n",
       "        vertical-align: middle;\n",
       "    }\n",
       "\n",
       "    .dataframe tbody tr th {\n",
       "        vertical-align: top;\n",
       "    }\n",
       "\n",
       "    .dataframe thead th {\n",
       "        text-align: right;\n",
       "    }\n",
       "</style>\n",
       "<table border=\"1\" class=\"dataframe\">\n",
       "  <thead>\n",
       "    <tr style=\"text-align: right;\">\n",
       "      <th></th>\n",
       "      <th>Loan_ID</th>\n",
       "      <th>Gender</th>\n",
       "      <th>Married</th>\n",
       "      <th>Dependents</th>\n",
       "      <th>Education</th>\n",
       "      <th>Self_Employed</th>\n",
       "      <th>ApplicantIncome</th>\n",
       "      <th>CoapplicantIncome</th>\n",
       "      <th>LoanAmount</th>\n",
       "      <th>Loan_Amount_Term</th>\n",
       "      <th>Credit_History</th>\n",
       "      <th>Property_Area</th>\n",
       "      <th>Loan_Status</th>\n",
       "    </tr>\n",
       "  </thead>\n",
       "  <tbody>\n",
       "    <tr>\n",
       "      <th>0</th>\n",
       "      <td>LP001002</td>\n",
       "      <td>Male</td>\n",
       "      <td>No</td>\n",
       "      <td>0</td>\n",
       "      <td>Graduate</td>\n",
       "      <td>No</td>\n",
       "      <td>5849.00000</td>\n",
       "      <td>0.0</td>\n",
       "      <td>146.412162</td>\n",
       "      <td>360.0</td>\n",
       "      <td>1.0</td>\n",
       "      <td>Urban</td>\n",
       "      <td>Y</td>\n",
       "    </tr>\n",
       "    <tr>\n",
       "      <th>1</th>\n",
       "      <td>LP001003</td>\n",
       "      <td>Male</td>\n",
       "      <td>Yes</td>\n",
       "      <td>1</td>\n",
       "      <td>Graduate</td>\n",
       "      <td>No</td>\n",
       "      <td>5405.54085</td>\n",
       "      <td>1508.0</td>\n",
       "      <td>128.000000</td>\n",
       "      <td>360.0</td>\n",
       "      <td>1.0</td>\n",
       "      <td>Rural</td>\n",
       "      <td>N</td>\n",
       "    </tr>\n",
       "    <tr>\n",
       "      <th>2</th>\n",
       "      <td>LP001005</td>\n",
       "      <td>Male</td>\n",
       "      <td>Yes</td>\n",
       "      <td>0</td>\n",
       "      <td>Graduate</td>\n",
       "      <td>Yes</td>\n",
       "      <td>3000.00000</td>\n",
       "      <td>0.0</td>\n",
       "      <td>66.000000</td>\n",
       "      <td>360.0</td>\n",
       "      <td>1.0</td>\n",
       "      <td>Urban</td>\n",
       "      <td>Y</td>\n",
       "    </tr>\n",
       "    <tr>\n",
       "      <th>3</th>\n",
       "      <td>LP001006</td>\n",
       "      <td>Male</td>\n",
       "      <td>Yes</td>\n",
       "      <td>0</td>\n",
       "      <td>Not Graduate</td>\n",
       "      <td>No</td>\n",
       "      <td>2583.00000</td>\n",
       "      <td>2358.0</td>\n",
       "      <td>120.000000</td>\n",
       "      <td>360.0</td>\n",
       "      <td>1.0</td>\n",
       "      <td>Urban</td>\n",
       "      <td>Y</td>\n",
       "    </tr>\n",
       "    <tr>\n",
       "      <th>4</th>\n",
       "      <td>LP001008</td>\n",
       "      <td>Male</td>\n",
       "      <td>No</td>\n",
       "      <td>0</td>\n",
       "      <td>Graduate</td>\n",
       "      <td>No</td>\n",
       "      <td>6000.00000</td>\n",
       "      <td>0.0</td>\n",
       "      <td>141.000000</td>\n",
       "      <td>360.0</td>\n",
       "      <td>1.0</td>\n",
       "      <td>Urban</td>\n",
       "      <td>Y</td>\n",
       "    </tr>\n",
       "  </tbody>\n",
       "</table>\n",
       "</div>"
      ],
      "text/plain": [
       "    Loan_ID Gender Married Dependents     Education Self_Employed  \\\n",
       "0  LP001002   Male      No          0      Graduate            No   \n",
       "1  LP001003   Male     Yes          1      Graduate            No   \n",
       "2  LP001005   Male     Yes          0      Graduate           Yes   \n",
       "3  LP001006   Male     Yes          0  Not Graduate            No   \n",
       "4  LP001008   Male      No          0      Graduate            No   \n",
       "\n",
       "   ApplicantIncome  CoapplicantIncome  LoanAmount  Loan_Amount_Term  \\\n",
       "0       5849.00000                0.0  146.412162             360.0   \n",
       "1       5405.54085             1508.0  128.000000             360.0   \n",
       "2       3000.00000                0.0   66.000000             360.0   \n",
       "3       2583.00000             2358.0  120.000000             360.0   \n",
       "4       6000.00000                0.0  141.000000             360.0   \n",
       "\n",
       "   Credit_History Property_Area Loan_Status  \n",
       "0             1.0         Urban           Y  \n",
       "1             1.0         Rural           N  \n",
       "2             1.0         Urban           Y  \n",
       "3             1.0         Urban           Y  \n",
       "4             1.0         Urban           Y  "
      ]
     },
     "execution_count": 41,
     "metadata": {},
     "output_type": "execute_result"
    }
   ],
   "source": [
    "A.head()"
   ]
  },
  {
   "cell_type": "code",
   "execution_count": 53,
   "id": "91c025ac-c79c-41e1-b050-dca99571476f",
   "metadata": {},
   "outputs": [],
   "source": [
    "# EDA"
   ]
  },
  {
   "cell_type": "code",
   "execution_count": 54,
   "id": "22b7b5c9-5934-4523-8ab3-98b0aef40b13",
   "metadata": {},
   "outputs": [],
   "source": [
    "#categorial vs Categoriacal relation"
   ]
  },
  {
   "cell_type": "code",
   "execution_count": 61,
   "id": "d42c7ee9-7ba8-4d98-8cfc-213cf22bf173",
   "metadata": {},
   "outputs": [],
   "source": [
    "def chisq(df,cat1,cat2):\n",
    "    import pandas as pd\n",
    "    from scipy.stats import chi2_contingency\n",
    "    ct=pd.crosstab(df[cat1],df[cat2])\n",
    "    chi2, pvalue, dof, ex =chi2_contingency(ct)\n",
    "    # print(f'Chi2 Statistic: {chi2}')\n",
    "    # print(f'P-Value: {pvalue}')\n",
    "    # print(f'Degrees of Freedom: {dof}')\n",
    "    # print(f'Expected Frequencies: \\n{ex}')\n",
    "    return round(pvalue,2)"
   ]
  },
  {
   "cell_type": "code",
   "execution_count": 65,
   "id": "d5ea998f-f5fd-4a2a-8119-70d1c3931f62",
   "metadata": {},
   "outputs": [
    {
     "name": "stdout",
     "output_type": "stream",
     "text": [
      "reject Loan_ID\n",
      "reject Gender\n",
      "accept Married\n",
      "reject Dependents\n",
      "accept Education\n",
      "reject Self_Employed\n",
      "accept Property_Area\n",
      "reject Loan_Status\n"
     ]
    }
   ],
   "source": [
    "alpha = 0.05\n",
    "accept_categorical=[]\n",
    "reject_categorical=[]\n",
    "for i in cat:\n",
    "    pvalue=chisq(A,'Loan_Status',i)\n",
    "    # Interpret p-value\n",
    "\n",
    "    if pvalue < alpha and i!='Loan_Status':\n",
    "        # print('Reject null hypothesis - Significant association')\n",
    "        print('accept',i)\n",
    "        accept_categorical.append(i)\n",
    "    else:\n",
    "        # print('Fail to reject null hypothesis - No significant association',i)\n",
    "        print('reject',i)\n",
    "        reject_categorical.append(i)\n",
    "\n",
    "    "
   ]
  },
  {
   "cell_type": "code",
   "execution_count": 66,
   "id": "b4ef738a-9690-4a96-841c-6b80b1c9fa18",
   "metadata": {},
   "outputs": [],
   "source": [
    "#categorical vs Continuous variable relationship "
   ]
  },
  {
   "cell_type": "code",
   "execution_count": 79,
   "id": "ce841559-3cbd-4e83-80b2-f0a6d23bac7d",
   "metadata": {},
   "outputs": [],
   "source": [
    "def ANOVA(df:pd.DataFrame, cat: str, con: str) -> float:\n",
    "    \"\"\"\n",
    "    Performing 'Analysis of Variance' on the input DataFrame.\n",
    "\n",
    "    Parameters:\n",
    "    df (pandas.DataFrame): The input data frame containing the data.\n",
    "    cat (str): The categorical column variable name.\n",
    "    con (str): The continuous column variable name.\n",
    "\n",
    "    Returns:\n",
    "    float: The p-value from the ANOVA results, rounded to 5 decimal places.\n",
    "    \"\"\"\n",
    "    from statsmodels.formula.api import ols\n",
    "    from statsmodels.stats.anova import anova_lm\n",
    "    \n",
    "    # Create eqn. for the OLS regression model \n",
    "    eqn = f\"{con} ~ {cat}\"\n",
    "    \n",
    "    # Fit the model using the input data frame and equation\n",
    "    model = ols(eqn, df).fit()\n",
    "    \n",
    "    # Perform ANOVA on the fitted model\n",
    "    anova_results = anova_lm(model)\n",
    "    \n",
    "    # Extract and return the p-value from the ANOVA results\n",
    "    p_value = round(anova_results.iloc[0, 4], 5)\n",
    "    return p_value"
   ]
  },
  {
   "cell_type": "code",
   "execution_count": 80,
   "id": "06f930e8-3682-4156-8a70-2b8f78e7ac74",
   "metadata": {},
   "outputs": [
    {
     "name": "stdout",
     "output_type": "stream",
     "text": [
      "[]\n",
      "['ApplicantIncome', 'CoapplicantIncome', 'LoanAmount', 'Loan_Amount_Term', 'Credit_History']\n"
     ]
    }
   ],
   "source": [
    "critical_p_value=0.05\n",
    "continuous_accepted=[]\n",
    "con_rejected=[]\n",
    "\n",
    "# Significant Result (Rejecting Null Hypothesis):\n",
    "\n",
    "# F-Statistic: High value.\n",
    "# P-Value: Low (≤ 0.05).\n",
    "# Interpretation: There is strong evidence to suggest that at least one group mean is significantly different from the others.\n",
    "# Non-Significant Result (Failing to Reject Null Hypothesis):\n",
    "for i in con:\n",
    "    score=ANOVA(A,\"Loan_Status\",i)\n",
    "    if score<critical_p_value<0.05:\n",
    "        print(score,i) \n",
    "        continuous_accepted.append(i)\n",
    "    else:\n",
    "        con_rejected.append(i)\n",
    "\n",
    "print(continuous_accepted)\n",
    "print(con_rejected)\n",
    "\n",
    "    \n",
    "\n",
    "    "
   ]
  },
  {
   "cell_type": "code",
   "execution_count": null,
   "id": "f0b539a3-c0bd-46dd-b1aa-a60455672647",
   "metadata": {},
   "outputs": [],
   "source": [
    "def ANOVA(df,cat,con):\n",
    "    from statsmodels.formula.api import ols\n",
    "    eqn = str(con) + \" ~ \" + str(cat)\n",
    "    model = ols(eqn,df).fit()\n",
    "    from statsmodels.stats.anova import anova_lm\n",
    "    Q = anova_lm(model)\n",
    "    return round(Q.iloc[0:1,4:5].values[0][0],5)"
   ]
  },
  {
   "cell_type": "code",
   "execution_count": null,
   "id": "6636306c-a53e-465a-adc7-2408ae131a4d",
   "metadata": {},
   "outputs": [],
   "source": [
    "def anova (df),cat,con:\n",
    "from statsmodel.formula.api import ols\n",
    "from statsmode.stats.anova import anova_lm"
   ]
  }
 ],
 "metadata": {
  "kernelspec": {
   "display_name": "Python 3 (ipykernel)",
   "language": "python",
   "name": "python3"
  },
  "language_info": {
   "codemirror_mode": {
    "name": "ipython",
    "version": 3
   },
   "file_extension": ".py",
   "mimetype": "text/x-python",
   "name": "python",
   "nbconvert_exporter": "python",
   "pygments_lexer": "ipython3",
   "version": "3.10.14"
  }
 },
 "nbformat": 4,
 "nbformat_minor": 5
}
